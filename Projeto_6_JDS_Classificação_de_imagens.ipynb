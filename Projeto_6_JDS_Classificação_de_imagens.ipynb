{
  "nbformat": 4,
  "nbformat_minor": 0,
  "metadata": {
    "colab": {
      "provenance": [],
      "authorship_tag": "ABX9TyNHf2hxpYega9FHI+a3ADrm",
      "include_colab_link": true
    },
    "kernelspec": {
      "name": "python3",
      "display_name": "Python 3"
    },
    "language_info": {
      "name": "python"
    },
    "widgets": {
      "application/vnd.jupyter.widget-state+json": {
        "40d9cb751fd8486f94958de30761f001": {
          "model_module": "@jupyter-widgets/controls",
          "model_name": "HBoxModel",
          "model_module_version": "1.5.0",
          "state": {
            "_dom_classes": [],
            "_model_module": "@jupyter-widgets/controls",
            "_model_module_version": "1.5.0",
            "_model_name": "HBoxModel",
            "_view_count": null,
            "_view_module": "@jupyter-widgets/controls",
            "_view_module_version": "1.5.0",
            "_view_name": "HBoxView",
            "box_style": "",
            "children": [
              "IPY_MODEL_9bd3072892874ee98411a8079c3baada",
              "IPY_MODEL_ab2d4e9875474fa9a48c8e7f7874ca18",
              "IPY_MODEL_0c2b9fd03509498f91c3d8aa848e3289"
            ],
            "layout": "IPY_MODEL_ef94f8473c164ab1b4edc23ce45d6b44"
          }
        },
        "9bd3072892874ee98411a8079c3baada": {
          "model_module": "@jupyter-widgets/controls",
          "model_name": "HTMLModel",
          "model_module_version": "1.5.0",
          "state": {
            "_dom_classes": [],
            "_model_module": "@jupyter-widgets/controls",
            "_model_module_version": "1.5.0",
            "_model_name": "HTMLModel",
            "_view_count": null,
            "_view_module": "@jupyter-widgets/controls",
            "_view_module_version": "1.5.0",
            "_view_name": "HTMLView",
            "description": "",
            "description_tooltip": null,
            "layout": "IPY_MODEL_f6bdb25eaaf44094a5add1c6bbbaa69d",
            "placeholder": "​",
            "style": "IPY_MODEL_db55a8e22aab4b2780919e42ba5371fe",
            "value": "100%"
          }
        },
        "ab2d4e9875474fa9a48c8e7f7874ca18": {
          "model_module": "@jupyter-widgets/controls",
          "model_name": "FloatProgressModel",
          "model_module_version": "1.5.0",
          "state": {
            "_dom_classes": [],
            "_model_module": "@jupyter-widgets/controls",
            "_model_module_version": "1.5.0",
            "_model_name": "FloatProgressModel",
            "_view_count": null,
            "_view_module": "@jupyter-widgets/controls",
            "_view_module_version": "1.5.0",
            "_view_name": "ProgressView",
            "bar_style": "success",
            "description": "",
            "description_tooltip": null,
            "layout": "IPY_MODEL_526a96c53f904de38d1a5ef266f07d27",
            "max": 244408911,
            "min": 0,
            "orientation": "horizontal",
            "style": "IPY_MODEL_f2acf80ca52b4ae6a42bcd402c32e997",
            "value": 244408911
          }
        },
        "0c2b9fd03509498f91c3d8aa848e3289": {
          "model_module": "@jupyter-widgets/controls",
          "model_name": "HTMLModel",
          "model_module_version": "1.5.0",
          "state": {
            "_dom_classes": [],
            "_model_module": "@jupyter-widgets/controls",
            "_model_module_version": "1.5.0",
            "_model_name": "HTMLModel",
            "_view_count": null,
            "_view_module": "@jupyter-widgets/controls",
            "_view_module_version": "1.5.0",
            "_view_name": "HTMLView",
            "description": "",
            "description_tooltip": null,
            "layout": "IPY_MODEL_1b14c8cbf766419cb89e992d27a809fa",
            "placeholder": "​",
            "style": "IPY_MODEL_dd5e46d9a28c48adb771b75abcb359f4",
            "value": " 233M/233M [00:04&lt;00:00, 60.3MB/s]"
          }
        },
        "ef94f8473c164ab1b4edc23ce45d6b44": {
          "model_module": "@jupyter-widgets/base",
          "model_name": "LayoutModel",
          "model_module_version": "1.2.0",
          "state": {
            "_model_module": "@jupyter-widgets/base",
            "_model_module_version": "1.2.0",
            "_model_name": "LayoutModel",
            "_view_count": null,
            "_view_module": "@jupyter-widgets/base",
            "_view_module_version": "1.2.0",
            "_view_name": "LayoutView",
            "align_content": null,
            "align_items": null,
            "align_self": null,
            "border": null,
            "bottom": null,
            "display": null,
            "flex": null,
            "flex_flow": null,
            "grid_area": null,
            "grid_auto_columns": null,
            "grid_auto_flow": null,
            "grid_auto_rows": null,
            "grid_column": null,
            "grid_gap": null,
            "grid_row": null,
            "grid_template_areas": null,
            "grid_template_columns": null,
            "grid_template_rows": null,
            "height": null,
            "justify_content": null,
            "justify_items": null,
            "left": null,
            "margin": null,
            "max_height": null,
            "max_width": null,
            "min_height": null,
            "min_width": null,
            "object_fit": null,
            "object_position": null,
            "order": null,
            "overflow": null,
            "overflow_x": null,
            "overflow_y": null,
            "padding": null,
            "right": null,
            "top": null,
            "visibility": null,
            "width": null
          }
        },
        "f6bdb25eaaf44094a5add1c6bbbaa69d": {
          "model_module": "@jupyter-widgets/base",
          "model_name": "LayoutModel",
          "model_module_version": "1.2.0",
          "state": {
            "_model_module": "@jupyter-widgets/base",
            "_model_module_version": "1.2.0",
            "_model_name": "LayoutModel",
            "_view_count": null,
            "_view_module": "@jupyter-widgets/base",
            "_view_module_version": "1.2.0",
            "_view_name": "LayoutView",
            "align_content": null,
            "align_items": null,
            "align_self": null,
            "border": null,
            "bottom": null,
            "display": null,
            "flex": null,
            "flex_flow": null,
            "grid_area": null,
            "grid_auto_columns": null,
            "grid_auto_flow": null,
            "grid_auto_rows": null,
            "grid_column": null,
            "grid_gap": null,
            "grid_row": null,
            "grid_template_areas": null,
            "grid_template_columns": null,
            "grid_template_rows": null,
            "height": null,
            "justify_content": null,
            "justify_items": null,
            "left": null,
            "margin": null,
            "max_height": null,
            "max_width": null,
            "min_height": null,
            "min_width": null,
            "object_fit": null,
            "object_position": null,
            "order": null,
            "overflow": null,
            "overflow_x": null,
            "overflow_y": null,
            "padding": null,
            "right": null,
            "top": null,
            "visibility": null,
            "width": null
          }
        },
        "db55a8e22aab4b2780919e42ba5371fe": {
          "model_module": "@jupyter-widgets/controls",
          "model_name": "DescriptionStyleModel",
          "model_module_version": "1.5.0",
          "state": {
            "_model_module": "@jupyter-widgets/controls",
            "_model_module_version": "1.5.0",
            "_model_name": "DescriptionStyleModel",
            "_view_count": null,
            "_view_module": "@jupyter-widgets/base",
            "_view_module_version": "1.2.0",
            "_view_name": "StyleView",
            "description_width": ""
          }
        },
        "526a96c53f904de38d1a5ef266f07d27": {
          "model_module": "@jupyter-widgets/base",
          "model_name": "LayoutModel",
          "model_module_version": "1.2.0",
          "state": {
            "_model_module": "@jupyter-widgets/base",
            "_model_module_version": "1.2.0",
            "_model_name": "LayoutModel",
            "_view_count": null,
            "_view_module": "@jupyter-widgets/base",
            "_view_module_version": "1.2.0",
            "_view_name": "LayoutView",
            "align_content": null,
            "align_items": null,
            "align_self": null,
            "border": null,
            "bottom": null,
            "display": null,
            "flex": null,
            "flex_flow": null,
            "grid_area": null,
            "grid_auto_columns": null,
            "grid_auto_flow": null,
            "grid_auto_rows": null,
            "grid_column": null,
            "grid_gap": null,
            "grid_row": null,
            "grid_template_areas": null,
            "grid_template_columns": null,
            "grid_template_rows": null,
            "height": null,
            "justify_content": null,
            "justify_items": null,
            "left": null,
            "margin": null,
            "max_height": null,
            "max_width": null,
            "min_height": null,
            "min_width": null,
            "object_fit": null,
            "object_position": null,
            "order": null,
            "overflow": null,
            "overflow_x": null,
            "overflow_y": null,
            "padding": null,
            "right": null,
            "top": null,
            "visibility": null,
            "width": null
          }
        },
        "f2acf80ca52b4ae6a42bcd402c32e997": {
          "model_module": "@jupyter-widgets/controls",
          "model_name": "ProgressStyleModel",
          "model_module_version": "1.5.0",
          "state": {
            "_model_module": "@jupyter-widgets/controls",
            "_model_module_version": "1.5.0",
            "_model_name": "ProgressStyleModel",
            "_view_count": null,
            "_view_module": "@jupyter-widgets/base",
            "_view_module_version": "1.2.0",
            "_view_name": "StyleView",
            "bar_color": null,
            "description_width": ""
          }
        },
        "1b14c8cbf766419cb89e992d27a809fa": {
          "model_module": "@jupyter-widgets/base",
          "model_name": "LayoutModel",
          "model_module_version": "1.2.0",
          "state": {
            "_model_module": "@jupyter-widgets/base",
            "_model_module_version": "1.2.0",
            "_model_name": "LayoutModel",
            "_view_count": null,
            "_view_module": "@jupyter-widgets/base",
            "_view_module_version": "1.2.0",
            "_view_name": "LayoutView",
            "align_content": null,
            "align_items": null,
            "align_self": null,
            "border": null,
            "bottom": null,
            "display": null,
            "flex": null,
            "flex_flow": null,
            "grid_area": null,
            "grid_auto_columns": null,
            "grid_auto_flow": null,
            "grid_auto_rows": null,
            "grid_column": null,
            "grid_gap": null,
            "grid_row": null,
            "grid_template_areas": null,
            "grid_template_columns": null,
            "grid_template_rows": null,
            "height": null,
            "justify_content": null,
            "justify_items": null,
            "left": null,
            "margin": null,
            "max_height": null,
            "max_width": null,
            "min_height": null,
            "min_width": null,
            "object_fit": null,
            "object_position": null,
            "order": null,
            "overflow": null,
            "overflow_x": null,
            "overflow_y": null,
            "padding": null,
            "right": null,
            "top": null,
            "visibility": null,
            "width": null
          }
        },
        "dd5e46d9a28c48adb771b75abcb359f4": {
          "model_module": "@jupyter-widgets/controls",
          "model_name": "DescriptionStyleModel",
          "model_module_version": "1.5.0",
          "state": {
            "_model_module": "@jupyter-widgets/controls",
            "_model_module_version": "1.5.0",
            "_model_name": "DescriptionStyleModel",
            "_view_count": null,
            "_view_module": "@jupyter-widgets/base",
            "_view_module_version": "1.2.0",
            "_view_name": "StyleView",
            "description_width": ""
          }
        }
      }
    }
  },
  "cells": [
    {
      "cell_type": "markdown",
      "metadata": {
        "id": "view-in-github",
        "colab_type": "text"
      },
      "source": [
        "<a href=\"https://colab.research.google.com/github/MarcelahCaetanoh/Projeto-6--Classifica-o-de-Imagens/blob/main/Projeto_6_JDS_Classifica%C3%A7%C3%A3o_de_imagens.ipynb\" target=\"_parent\"><img src=\"https://colab.research.google.com/assets/colab-badge.svg\" alt=\"Open In Colab\"/></a>"
      ]
    },
    {
      "cell_type": "markdown",
      "source": [
        "**Projeto 6- Classificação de  Imagens - Py Torch e Transfer Learning**\n",
        "\n",
        "***MOTIVAÇÃO***\n",
        "\n",
        "As redes pré-treinadas existem por aí, por que não usá-las??? Muitas aplicações para problemas reais podem ser rapidamente criadas utilizando um conjunto reduzido de observações para treinamento dos modelos. Sem essa ferramenta, são necessárias dezenas de milhares de imagens para treinar uma rede do zero, ou seja, não faz sentido na grande maioria dos casos.\n",
        "\n",
        "\n",
        "Uma rede convolucional é complexa nos seus meandros e detalhes debaixo do capô. Mas não é por isso que não podemos utilizar das bibliotecas que nos auxiliam na abstração de tantos detalhes para criar valor nas empresas e organizações para as quais trabalhamos ou mesmo para mostrar a capacidade de utilizar ferramentas de deep learning para solução de possíveis problemas reais (e enriquecer o portfólio)\n",
        "\n",
        "\n",
        "\n",
        "***OBJETO DE ESTUDO***\n",
        "\n",
        "Você foi contratado pela Let's Veggie e precisamos de um produto mínimo viável que possa ser testado nas filiais da empresa. O problema a ser solucionado é a dificuldade em classificar os produtos das lojas, pois a empresa está crescendo muito e a contratação de vendedores novatos está a mil! Muitos deles não sabem diferenciar os vegetais e frutas e uma aplicação que faça essa classificação pode ajudar bastante na expansão da companhia.\n",
        "\n",
        "Vamos começar com a classificação de batatas, cenouras, tomates e limões! Se funcionar no celular do chefe, tenho certeza que seu valor vai subir nas alturas!\n",
        "\n",
        "\n",
        "\n",
        "\n"
      ],
      "metadata": {
        "id": "LEpdEQAGMrnd"
      }
    },
    {
      "cell_type": "markdown",
      "source": [
        "\n",
        "\n",
        "**CRIAÇÃO E SEPARAÇÃO DE BASES**\n",
        "\n",
        "Com as imagens baixadas do google images (a gente usa o Bulk Image Downloader, mas use o que achar melhor!) podemos separá-las em treino, validação e teste.\n"
      ],
      "metadata": {
        "id": "SQF0K-cFRBnN"
      }
    },
    {
      "cell_type": "code",
      "source": [
        "from matplotlib import pyplot as plt\n",
        "import numpy as np\n",
        "import os\n",
        "import PIL.Image\n",
        "\n",
        "import time\n",
        "import torch, torchvision\n",
        "from torchvision import datasets, models, transforms\n",
        "from torch.utils.data import DataLoader\n",
        "import torch.nn as nn\n",
        "import torch.optim as optim\n",
        "\n"
      ],
      "metadata": {
        "id": "5bZynO_3NfQu"
      },
      "execution_count": 88,
      "outputs": []
    },
    {
      "cell_type": "code",
      "source": [
        "import pandas as pd\n",
        "from google.colab import drive\n",
        "\n",
        "drive.mount ('/content/drive')"
      ],
      "metadata": {
        "colab": {
          "base_uri": "https://localhost:8080/"
        },
        "id": "4KxCZ_zdS18X",
        "outputId": "e2cc8df3-19cc-4b87-bd80-4aef89bc42a5"
      },
      "execution_count": 2,
      "outputs": [
        {
          "output_type": "stream",
          "name": "stdout",
          "text": [
            "Mounted at /content/drive\n"
          ]
        }
      ]
    },
    {
      "cell_type": "code",
      "source": [
        "diretorio_base_imagens = '/content/drive/My Drive/Colab Notebooks/data/raw'\n",
        "pastas_com_nomes_de_vegetais = os.listdir('/content/drive/My Drive/Colab Notebooks/data/raw')\n",
        "pastas_com_nomes_de_vegetais"
      ],
      "metadata": {
        "colab": {
          "base_uri": "https://localhost:8080/"
        },
        "id": "zK5f_1VWTAA_",
        "outputId": "2f63433e-9590-425d-904e-4a12611828ba"
      },
      "execution_count": 3,
      "outputs": [
        {
          "output_type": "execute_result",
          "data": {
            "text/plain": [
              "['tomate', 'batata', 'cenoura', 'limao']"
            ]
          },
          "metadata": {},
          "execution_count": 3
        }
      ]
    },
    {
      "cell_type": "code",
      "source": [
        "# Vamos criar uma separação estratificada\n",
        "\n",
        "quantidade_por_label = {pasta: len(os.listdir(os.path.join(diretorio_base_imagens, pasta))) for pasta in pastas_com_nomes_de_vegetais}\n",
        "quantidade_por_label"
      ],
      "metadata": {
        "colab": {
          "base_uri": "https://localhost:8080/"
        },
        "id": "i7h84594VPBb",
        "outputId": "8f788c56-c82f-477b-af1e-42498a3138c7"
      },
      "execution_count": 4,
      "outputs": [
        {
          "output_type": "execute_result",
          "data": {
            "text/plain": [
              "{'tomate': 107, 'batata': 146, 'cenoura': 181, 'limao': 111}"
            ]
          },
          "metadata": {},
          "execution_count": 4
        }
      ]
    },
    {
      "cell_type": "code",
      "source": [
        "# Criando as pastas de Treino, validação e testes \n",
        "\n",
        "diretorio_imagens_processadas = '/content/drive/My Drive/Colab Notebooks/data/processed'\n",
        "\n",
        "dir_treino = os.path.join(diretorio_imagens_processadas, 'treino')\n",
        "dir_validacao = os.path.join(diretorio_imagens_processadas, 'validacao')\n",
        "dir_teste = os.path.join(diretorio_imagens_processadas, 'teste')\n",
        " \n",
        "if not os.path.exists(dir_treino):\n",
        "       os.makedirs(dir_treino)\n",
        "\n",
        "if not os.path.exists(dir_validacao):   \n",
        "       os.makedirs(dir_validacao)\n",
        "  \n",
        "if not os.path.exists(dir_teste):\n",
        "        os.makedirs(dir_teste)\n",
        " "
      ],
      "metadata": {
        "id": "qG2uVYWjWUm-"
      },
      "execution_count": 5,
      "outputs": []
    },
    {
      "cell_type": "code",
      "source": [
        "import shutil\n",
        "from sklearn.model_selection import train_test_split\n",
        "\n",
        "# Criando uma pasta para  cada classe (batata, cenoura, Limao, tomate)\n",
        "#dentro de treino validação e teste\n",
        "\n",
        "for classe in pastas_com_nomes_de_vegetais: \n",
        "    dir_classe_treino = os.path.join(dir_treino, classe)\n",
        "    dir_classe_validacao = os.path.join(dir_validacao, classe)\n",
        "    dir_classe_teste = os.path.join(dir_teste, classe)\n",
        "\n",
        "    if not os.path.exists(dir_classe_treino):\n",
        "        os.makedirs(dir_classe_treino)  \n",
        "\n",
        "    if not os.path.exists(dir_classe_validacao):\n",
        "       os.makedirs(dir_classe_validacao)\n",
        "\n",
        "    if not os.path.exists(dir_classe_teste):\n",
        "       os.makedirs(dir_classe_teste)\n",
        "\n",
        "# caminho completo para a pasta de imagens originais \n",
        "    pasta_classe = os.path.join(diretorio_base_imagens, classe)\n",
        "\n",
        "# listando todos os arquivos de imagem para essa classe\n",
        "    arquivos_classe = os.listdir(pasta_classe)\n",
        "\n",
        "# separando 80% para treino e 20% para validação+teste\n",
        "    treino, valid_teste = train_test_split(arquivos_classe,shuffle=True, test_size=0.2, random_state=42)\n",
        "   \n",
        "# separando os 20% da validação+teste em 10% para validação e 10% para teste\n",
        "    validacao, teste = train_test_split(valid_teste, shuffle=True, test_size=0.5, random_state=42)\n",
        "\n",
        "#não precisamos mais dessa lista temporária\n",
        "    del valid_teste\n",
        "    \n",
        "    print(f'{classe} - treino: {len(treino)} - valid: {len(validacao)} - teste: {len(teste)} - total: {len(arquivos_classe)}')\n",
        "\n",
        "# Copiando os arquivos efetivamente para as pastas de treino, validação e teste\n",
        "\n",
        "for imagem_treino in treino:\n",
        "     caminho_origem = os.path.join(diretorio_base_imagens, classe, imagem_treino)\n",
        "     caminho_destino = os.path.join(dir_classe_treino, imagem_treino)\n",
        "\n",
        "     shutil.copy(caminho_origem, caminho_destino)\n",
        "\n",
        "for imagem_validacao in validacao:\n",
        "     caminho_origem = os.path.join(diretorio_base_imagens, classe, imagem_validacao)\n",
        "     caminho_destino = os.path.join(dir_classe_validacao, imagem_validacao)\n",
        "   \n",
        "     shutil.copy(caminho_origem, caminho_destino)\n",
        "\n",
        "for imagem_teste in teste:\n",
        "    caminho_origem = os.path.join(diretorio_base_imagens, classe, imagem_teste)\n",
        "    caminho_destino = os.path.join(dir_classe_teste, imagem_teste)\n",
        " \n",
        "    shutil.copy(caminho_origem, caminho_destino)        "
      ],
      "metadata": {
        "colab": {
          "base_uri": "https://localhost:8080/"
        },
        "id": "ZHZG3ldIXNaA",
        "outputId": "1308a5aa-f5a7-4bb2-f25f-5454e8f69e28"
      },
      "execution_count": 6,
      "outputs": [
        {
          "output_type": "stream",
          "name": "stdout",
          "text": [
            "tomate - treino: 85 - valid: 11 - teste: 11 - total: 107\n",
            "batata - treino: 116 - valid: 15 - teste: 15 - total: 146\n",
            "cenoura - treino: 144 - valid: 18 - teste: 19 - total: 181\n",
            "limao - treino: 88 - valid: 11 - teste: 12 - total: 111\n"
          ]
        }
      ]
    },
    {
      "cell_type": "code",
      "source": [
        "# Setando o tamanho da imagem\n",
        "image_size = 100\n",
        "\n",
        "# Transformando as imagens: para modelos mais robustos tem que caprichar no data augmentation\n",
        "# Nesse caso não fizemos nada além do redimensionamento da imagem, mas é sempre bom fazer rotações\n",
        "# espelhamentos, crop randomicos pra garantir\n",
        "\n",
        "transformacoes_de_imagens = { \n",
        "    'treino': transforms.Compose([\n",
        "        transforms.Resize(size=[image_size, image_size]),\n",
        "        transforms.ToTensor(),\n",
        "    ]),\n",
        "    'validacao': transforms.Compose([\n",
        "        transforms.Resize(size=[image_size, image_size]),\n",
        "        transforms.ToTensor(),\n",
        "    ]),\n",
        "    'teste': transforms.Compose([\n",
        "        transforms.Resize(size=[image_size, image_size]),\n",
        "        transforms.ToTensor(),\n",
        "   ])\n",
        "}"
      ],
      "metadata": {
        "id": "g9cwzWcJm2Qm"
      },
      "execution_count": 7,
      "outputs": []
    },
    {
      "cell_type": "code",
      "source": [
        "# carregar imagens\n",
        "# Determinar as pastas de treino, validação e teste\n",
        "\n",
        "pasta_treino = dir_treino\n",
        "pasta_validacao = dir_validacao\n",
        "pasta_teste = dir_teste\n",
        " \n",
        "pasta_treino, pasta_validacao, pasta_teste"
      ],
      "metadata": {
        "colab": {
          "base_uri": "https://localhost:8080/"
        },
        "id": "hstwMkqKoxHx",
        "outputId": "8c3a0387-7541-4fef-9226-9ad3d1f4aaaf"
      },
      "execution_count": 8,
      "outputs": [
        {
          "output_type": "execute_result",
          "data": {
            "text/plain": [
              "('/content/drive/My Drive/Colab Notebooks/data/processed/treino',\n",
              " '/content/drive/My Drive/Colab Notebooks/data/processed/validacao',\n",
              " '/content/drive/My Drive/Colab Notebooks/data/processed/teste')"
            ]
          },
          "metadata": {},
          "execution_count": 8
        }
      ]
    },
    {
      "cell_type": "markdown",
      "source": [
        "**Preparação para o treinamento**\n",
        "\n",
        "Vamos definir informações importantes para o treinamento do modelo. Tamanho do batch, número de classes, datasets, data loaders, otimizadores."
      ],
      "metadata": {
        "id": "UJH_PEYNpLKt"
      }
    },
    {
      "cell_type": "code",
      "source": [
        "# Tamanho do batch de treinamento\n",
        "tamanho_do_batch = 8\n",
        "\n",
        "# Determinando o número de classes (verduras/frutas)\n",
        "\n",
        "numero_de_classes = len(os.listdir(pasta_treino))\n",
        "\n",
        "numero_de_classes"
      ],
      "metadata": {
        "colab": {
          "base_uri": "https://localhost:8080/"
        },
        "id": "ugZ9gI8FpWTY",
        "outputId": "e8cf34de-3405-4a05-a268-d37d2a4711b9"
      },
      "execution_count": 9,
      "outputs": [
        {
          "output_type": "execute_result",
          "data": {
            "text/plain": [
              "4"
            ]
          },
          "metadata": {},
          "execution_count": 9
        }
      ]
    },
    {
      "cell_type": "code",
      "source": [
        "# Carregar as imagens usando o datasets do torchvision\n",
        "data = {\n",
        "     'treino': datasets.ImageFolder(root=pasta_treino, transform=transformacoes_de_imagens['treino']),\n",
        "      'validacao': datasets.ImageFolder(root=pasta_validacao, transform=transformacoes_de_imagens['validacao'])\n",
        "}"
      ],
      "metadata": {
        "id": "vRTfRSmJpuIK"
      },
      "execution_count": 10,
      "outputs": []
    },
    {
      "cell_type": "code",
      "source": [
        "data"
      ],
      "metadata": {
        "colab": {
          "base_uri": "https://localhost:8080/"
        },
        "id": "3vVSwB27qGF0",
        "outputId": "d993eb11-7cfa-477e-9277-bad2dd069291"
      },
      "execution_count": 11,
      "outputs": [
        {
          "output_type": "execute_result",
          "data": {
            "text/plain": [
              "{'treino': Dataset ImageFolder\n",
              "     Number of datapoints: 448\n",
              "     Root location: /content/drive/My Drive/Colab Notebooks/data/processed/treino\n",
              "     StandardTransform\n",
              " Transform: Compose(\n",
              "                Resize(size=[100, 100], interpolation=bilinear, max_size=None, antialias=None)\n",
              "                ToTensor()\n",
              "            ), 'validacao': Dataset ImageFolder\n",
              "     Number of datapoints: 64\n",
              "     Root location: /content/drive/My Drive/Colab Notebooks/data/processed/validacao\n",
              "     StandardTransform\n",
              " Transform: Compose(\n",
              "                Resize(size=[100, 100], interpolation=bilinear, max_size=None, antialias=None)\n",
              "                ToTensor()\n",
              "            )}"
            ]
          },
          "metadata": {},
          "execution_count": 11
        }
      ]
    },
    {
      "cell_type": "code",
      "source": [
        "# Mapear os índices com os nomes das classes (cada índice vai ter um nome de hortifruti relacionado)\n",
        "\n",
        "indice_para_classe = {indice: classe for classe, indice in data['treino'].class_to_idx.items()}\n",
        "\n",
        "indice_para_classe\n"
      ],
      "metadata": {
        "colab": {
          "base_uri": "https://localhost:8080/"
        },
        "id": "DBkmavlxqcYf",
        "outputId": "f036c962-e226-4344-8428-de8e32255ef9"
      },
      "execution_count": 12,
      "outputs": [
        {
          "output_type": "execute_result",
          "data": {
            "text/plain": [
              "{0: 'batata', 1: 'cenoura', 2: 'limao', 3: 'tomate'}"
            ]
          },
          "metadata": {},
          "execution_count": 12
        }
      ]
    },
    {
      "cell_type": "code",
      "source": [
        "# Quantidade de imagens para serem utilizados para calcular erro médio e acurácia\n",
        "\n",
        "num_imagens_treino = len(data['treino'])\n",
        "num_imagens_validacao = len(data['validacao'])\n",
        "\n",
        "num_imagens_treino, num_imagens_validacao"
      ],
      "metadata": {
        "colab": {
          "base_uri": "https://localhost:8080/"
        },
        "id": "d8TClGiSqt7R",
        "outputId": "e8239a1e-66c5-4d9d-8a00-3524a98eba18"
      },
      "execution_count": 13,
      "outputs": [
        {
          "output_type": "execute_result",
          "data": {
            "text/plain": [
              "(448, 64)"
            ]
          },
          "metadata": {},
          "execution_count": 13
        }
      ]
    },
    {
      "cell_type": "code",
      "source": [
        "# Cria os DataLoaders para treino e validação\n",
        "# O DataLoader organiza os dados de treinamento e validação para o treinamento da rede neura\n",
        "data_loader_treino = DataLoader(data['treino'], batch_size=tamanho_do_batch, shuffle=True)\n",
        "data_loader_validacao = DataLoader(data['validacao'], batch_size=tamanho_do_batch, shuffle=True)\n"
      ],
      "metadata": {
        "id": "IdbDxAe2q9u0"
      },
      "execution_count": 14,
      "outputs": []
    },
    {
      "cell_type": "markdown",
      "source": [
        "Vamos visualizar algumas imagens da base de treino para cada uma das classes"
      ],
      "metadata": {
        "id": "PxuJyk_2ri2H"
      }
    },
    {
      "cell_type": "code",
      "source": [
        "from IPython.display import Image\n",
        "\n",
        "# Mostrar algumas imagens\n",
        "\n",
        "for classe in indice_para_classe.values():\n",
        "    pasta_classe = os.path.join(pasta_treino, classe)\n",
        "    arquivo_imagem = os.listdir(pasta_classe)[1]\n",
        "    img = Image(filename=os.path.join(pasta_classe, arquivo_imagem))\n",
        "    display(img)\n"
      ],
      "metadata": {
        "colab": {
          "base_uri": "https://localhost:8080/",
          "height": 719
        },
        "id": "5HAL6YPGrplG",
        "outputId": "f59f955e-68a3-4fbe-c5a0-916b60f7e61d"
      },
      "execution_count": 15,
      "outputs": [
        {
          "output_type": "display_data",
          "data": {
            "image/jpeg": "[encoded data removed]",
            "text/plain": [
              "<IPython.core.display.Image object>"
            ]
          },
          "metadata": {}
        },
        {
          "output_type": "display_data",
          "data": {
            "image/jpeg": "[encoded data removed]",
            "text/plain": [
              "<IPython.core.display.Image object>"
            ]
          },
          "metadata": {}
        },
        {
          "output_type": "display_data",
          "data": {
            "image/jpeg": "[encoded data removed]",
            "text/plain": [
              "<IPython.core.display.Image object>"
            ]
          },
          "metadata": {}
        },
        {
          "output_type": "display_data",
          "data": {
            "image/jpeg": "[encoded data removed]",
            "text/plain": [
              "<IPython.core.display.Image object>"
            ]
          },
          "metadata": {}
        }
      ]
    },
    {
      "cell_type": "markdown",
      "source": [
        "**Transfer Learning**\n",
        "\n",
        "Não fosse a mágica de reaproveitar uma rede já pré-treinada, sem chances de ter um modelo bom com poucas imagens como estamos criando nesse projeto. A Alexnet é famos por ter ganhado o prêmio de melhor classificador do banco Imagenet, concurso promovido por nossa musa da IA contemporânea Fei-fei Li\n",
        "\n",
        "---\n",
        "\n"
      ],
      "metadata": {
        "id": "cJKaFdjCw_TG"
      }
    },
    {
      "cell_type": "code",
      "source": [
        "# Vamos carregar nossa linda e maravilhosa Alexnet, prontinha com milhões de imagens\n",
        "# treinadas\n",
        "\n",
        "alexnet = models.alexnet(pretrained=True)\n",
        "\n",
        "# Dar uma \\\"cheirada\\\" e analisada na estrutura da rede Alexnet\n",
        "\n",
        "alexnet\n",
        "\n",
        "\n"
      ],
      "metadata": {
        "colab": {
          "base_uri": "https://localhost:8080/",
          "height": 624,
          "referenced_widgets": [
            "40d9cb751fd8486f94958de30761f001",
            "9bd3072892874ee98411a8079c3baada",
            "ab2d4e9875474fa9a48c8e7f7874ca18",
            "0c2b9fd03509498f91c3d8aa848e3289",
            "ef94f8473c164ab1b4edc23ce45d6b44",
            "f6bdb25eaaf44094a5add1c6bbbaa69d",
            "db55a8e22aab4b2780919e42ba5371fe",
            "526a96c53f904de38d1a5ef266f07d27",
            "f2acf80ca52b4ae6a42bcd402c32e997",
            "1b14c8cbf766419cb89e992d27a809fa",
            "dd5e46d9a28c48adb771b75abcb359f4"
          ]
        },
        "id": "hMZIkRxrxFNw",
        "outputId": "bbd81a55-560d-49fc-fbfe-d8835a35d9a4"
      },
      "execution_count": 16,
      "outputs": [
        {
          "output_type": "stream",
          "name": "stderr",
          "text": [
            "/usr/local/lib/python3.7/dist-packages/torchvision/models/_utils.py:209: UserWarning: The parameter 'pretrained' is deprecated since 0.13 and will be removed in 0.15, please use 'weights' instead.\n",
            "  f\"The parameter '{pretrained_param}' is deprecated since 0.13 and will be removed in 0.15, \"\n",
            "/usr/local/lib/python3.7/dist-packages/torchvision/models/_utils.py:223: UserWarning: Arguments other than a weight enum or `None` for 'weights' are deprecated since 0.13 and will be removed in 0.15. The current behavior is equivalent to passing `weights=AlexNet_Weights.IMAGENET1K_V1`. You can also use `weights=AlexNet_Weights.DEFAULT` to get the most up-to-date weights.\n",
            "  warnings.warn(msg)\n",
            "Downloading: \"https://download.pytorch.org/models/alexnet-owt-7be5be79.pth\" to /root/.cache/torch/hub/checkpoints/alexnet-owt-7be5be79.pth\n"
          ]
        },
        {
          "output_type": "display_data",
          "data": {
            "text/plain": [
              "  0%|          | 0.00/233M [00:00<?, ?B/s]"
            ],
            "application/vnd.jupyter.widget-view+json": {
              "version_major": 2,
              "version_minor": 0,
              "model_id": "40d9cb751fd8486f94958de30761f001"
            }
          },
          "metadata": {}
        },
        {
          "output_type": "execute_result",
          "data": {
            "text/plain": [
              "AlexNet(\n",
              "  (features): Sequential(\n",
              "    (0): Conv2d(3, 64, kernel_size=(11, 11), stride=(4, 4), padding=(2, 2))\n",
              "    (1): ReLU(inplace=True)\n",
              "    (2): MaxPool2d(kernel_size=3, stride=2, padding=0, dilation=1, ceil_mode=False)\n",
              "    (3): Conv2d(64, 192, kernel_size=(5, 5), stride=(1, 1), padding=(2, 2))\n",
              "    (4): ReLU(inplace=True)\n",
              "    (5): MaxPool2d(kernel_size=3, stride=2, padding=0, dilation=1, ceil_mode=False)\n",
              "    (6): Conv2d(192, 384, kernel_size=(3, 3), stride=(1, 1), padding=(1, 1))\n",
              "    (7): ReLU(inplace=True)\n",
              "    (8): Conv2d(384, 256, kernel_size=(3, 3), stride=(1, 1), padding=(1, 1))\n",
              "    (9): ReLU(inplace=True)\n",
              "    (10): Conv2d(256, 256, kernel_size=(3, 3), stride=(1, 1), padding=(1, 1))\n",
              "    (11): ReLU(inplace=True)\n",
              "    (12): MaxPool2d(kernel_size=3, stride=2, padding=0, dilation=1, ceil_mode=False)\n",
              "  )\n",
              "  (avgpool): AdaptiveAvgPool2d(output_size=(6, 6))\n",
              "  (classifier): Sequential(\n",
              "    (0): Dropout(p=0.5, inplace=False)\n",
              "    (1): Linear(in_features=9216, out_features=4096, bias=True)\n",
              "    (2): ReLU(inplace=True)\n",
              "    (3): Dropout(p=0.5, inplace=False)\n",
              "    (4): Linear(in_features=4096, out_features=4096, bias=True)\n",
              "    (5): ReLU(inplace=True)\n",
              "    (6): Linear(in_features=4096, out_features=1000, bias=True)\n",
              "  )\n",
              ")"
            ]
          },
          "metadata": {},
          "execution_count": 16
        }
      ]
    },
    {
      "cell_type": "code",
      "source": [
        "# Congelar os parametros da rede pré-treinada\n",
        "# Lembrando que o required_grad = False desliga o treinamento e atualização\n",
        "# dos pesos (coeficientes) das camadas da rede neural\n",
        "\n",
        "for param in alexnet.parameters():\n",
        "    param.requires_grad = False\n",
        "\n",
        "    "
      ],
      "metadata": {
        "id": "ixakcDMPx4_9"
      },
      "execution_count": 17,
      "outputs": []
    },
    {
      "cell_type": "code",
      "source": [
        "# Mudar a última camada para alterar o número de classes\n",
        "#Lembrando que aproveitamos a rede inteira, só plugamos uma camada final\n",
        "# que efetivamente vai aprender as nossas classes (hortifruti)\n",
        "\n",
        "# Alterando de Linear(in_features=4096, out_features=1000, bias=True)\n",
        "# para Linear(in_features=4096, out_features=4, bias=True), pois temos 4 hortifruti\n",
        "alexnet.classifier[6] = nn.Linear(4096, numero_de_classes)\n",
        "\n",
        "# Incluindo softmax, que faz com que as probabilidades de ser cenoura, batata,\n",
        "# limão ou tomate seja 1 (converte efetivamente em probabilidades para facilitar nossa análise)\n",
        "alexnet.classifier.add_module(\"7\", nn.LogSoftmax(dim = 1))\n",
        "\n",
        "alexnet\n",
        "\n",
        "\n",
        "\n",
        "\n"
      ],
      "metadata": {
        "colab": {
          "base_uri": "https://localhost:8080/"
        },
        "id": "hyoxdu3vyNZi",
        "outputId": "a63f8abd-114a-4163-bdbd-eb0f2da4c5e4"
      },
      "execution_count": 18,
      "outputs": [
        {
          "output_type": "execute_result",
          "data": {
            "text/plain": [
              "AlexNet(\n",
              "  (features): Sequential(\n",
              "    (0): Conv2d(3, 64, kernel_size=(11, 11), stride=(4, 4), padding=(2, 2))\n",
              "    (1): ReLU(inplace=True)\n",
              "    (2): MaxPool2d(kernel_size=3, stride=2, padding=0, dilation=1, ceil_mode=False)\n",
              "    (3): Conv2d(64, 192, kernel_size=(5, 5), stride=(1, 1), padding=(2, 2))\n",
              "    (4): ReLU(inplace=True)\n",
              "    (5): MaxPool2d(kernel_size=3, stride=2, padding=0, dilation=1, ceil_mode=False)\n",
              "    (6): Conv2d(192, 384, kernel_size=(3, 3), stride=(1, 1), padding=(1, 1))\n",
              "    (7): ReLU(inplace=True)\n",
              "    (8): Conv2d(384, 256, kernel_size=(3, 3), stride=(1, 1), padding=(1, 1))\n",
              "    (9): ReLU(inplace=True)\n",
              "    (10): Conv2d(256, 256, kernel_size=(3, 3), stride=(1, 1), padding=(1, 1))\n",
              "    (11): ReLU(inplace=True)\n",
              "    (12): MaxPool2d(kernel_size=3, stride=2, padding=0, dilation=1, ceil_mode=False)\n",
              "  )\n",
              "  (avgpool): AdaptiveAvgPool2d(output_size=(6, 6))\n",
              "  (classifier): Sequential(\n",
              "    (0): Dropout(p=0.5, inplace=False)\n",
              "    (1): Linear(in_features=9216, out_features=4096, bias=True)\n",
              "    (2): ReLU(inplace=True)\n",
              "    (3): Dropout(p=0.5, inplace=False)\n",
              "    (4): Linear(in_features=4096, out_features=4096, bias=True)\n",
              "    (5): ReLU(inplace=True)\n",
              "    (6): Linear(in_features=4096, out_features=4, bias=True)\n",
              "    (7): LogSoftmax(dim=1)\n",
              "  )\n",
              ")"
            ]
          },
          "metadata": {},
          "execution_count": 18
        }
      ]
    },
    {
      "cell_type": "code",
      "source": [
        "# Perceba que a última camada é criada já com requires_grad = True\n",
        "# ou seja, queremos efetivamente que ela seja treinada\n",
        "\n",
        "parametros_ultima_camada = alexnet.classifier[6].parameters()\n",
        "\n",
        "[parametro for parametro in parametros_ultima_camada][0].requires_grad"
      ],
      "metadata": {
        "colab": {
          "base_uri": "https://localhost:8080/"
        },
        "id": "Sq0CaoGr0Lml",
        "outputId": "22df68e1-8880-4945-f66b-fc2df8fe6125"
      },
      "execution_count": 19,
      "outputs": [
        {
          "output_type": "execute_result",
          "data": {
            "text/plain": [
              "True"
            ]
          },
          "metadata": {},
          "execution_count": 19
        }
      ]
    },
    {
      "cell_type": "code",
      "source": [
        "# Vamos utilizar a função de erro de entropia cruzada\n",
        "# bastante comum para problemas de classificação\n",
        "funcao_erro = nn.CrossEntropyLoss()"
      ],
      "metadata": {
        "id": "1PNCEbYa0iSs"
      },
      "execution_count": 20,
      "outputs": []
    },
    {
      "cell_type": "markdown",
      "source": [
        "**Otimizador**\n",
        "\n",
        "O Otimizador é quem efetivamente muda os pesos da rede de acordo com algum algoritmo\n",
        "\n",
        "Nesse caso vamos utilizar o Adam Optimizer, mas poderíamos utilizar o Stochastic Gradient Descent, por exemplo"
      ],
      "metadata": {
        "id": "mUmVuA200zda"
      }
    },
    {
      "cell_type": "code",
      "source": [
        "otimizador = optim.Adam(alexnet.parameters())\n",
        "otimizador"
      ],
      "metadata": {
        "colab": {
          "base_uri": "https://localhost:8080/"
        },
        "id": "-7c-4eHc1EIa",
        "outputId": "fcf81110-5c14-44ae-c928-2557038662fc"
      },
      "execution_count": 21,
      "outputs": [
        {
          "output_type": "execute_result",
          "data": {
            "text/plain": [
              "Adam (\n",
              "Parameter Group 0\n",
              "    amsgrad: False\n",
              "    betas: (0.9, 0.999)\n",
              "    capturable: False\n",
              "    eps: 1e-08\n",
              "    foreach: None\n",
              "    lr: 0.001\n",
              "    maximize: False\n",
              "    weight_decay: 0\n",
              ")"
            ]
          },
          "metadata": {},
          "execution_count": 21
        }
      ]
    },
    {
      "cell_type": "markdown",
      "source": [
        "**Treinar e Validar**\n",
        "\n",
        "O treinamento realiza vários caminhos para frente (forward: previsão), cálculos de erro (distância entre previsão e valor real) e backward (backpropagation: aprendizado com o erro). A cada época, todas as imagens do treino são utilizadas para otimizar os parâmetros da rede. Dentro de cada época, utilizamos o treinamento em batch, ao invés de realizar o treinamento imagem por imagem.\n",
        "\n",
        "Na validação, lembrar que não queremos manter o cálculo de gradientes, pois não vamos realizar o backpropagation\n"
      ],
      "metadata": {
        "id": "PoJ0KwBV1Zz0"
      }
    },
    {
      "cell_type": "code",
      "source": [
        "\n",
        "def treinar_e_validar(modelo, metrica_erro, otimizador, epocas=10):\n",
        "\n",
        "#inicializando historico a melhor acuracia de validação melhor modelo de acordo com a validação\n",
        "    historico = []\n",
        "    melhor_acuracia = 0.0\n",
        "    melhor_modelo = None\n",
        "\n",
        "# Se você for rico e tiver uma RTX 3090 ti (que sonho!!)\n",
        "# Mas se não for, sem problemas, sua CPU provavelmente vai dar conta do recado!\n",
        "    device = torch.device(\"cuda:0\" if torch.cuda.is_available() else \"cpu\")\n",
        "\n",
        "    print(device)\n",
        "\n",
        "# Cada época perpassa todas as imagens do treino e calcula erros de treino e validação\n",
        "# para aprendizado da rede neural\n",
        "\n",
        "\n",
        "    for epoca in range(epocas):\n",
        "        inicio_epoca = time.time()\n",
        "        print(\"\\n\\nÉpoca: {}/{}\".format(epoca+1, epocas))\n",
        "\n",
        "    # Erro e acurácia de treino nessa época\n",
        "        erro_treino = 0.0\n",
        "        acertos_treino = 0.0\n",
        "      # Erro e acurácia de validação nessa época\n",
        "        erro_validacao = 0.0\n",
        "        acertos_validacao = 0.0\n",
        "\n",
        "        for i, (imagens_lote, y_reais) in enumerate(data_loader_treino):\n",
        "            print(f\"\\nLote: {i+1}\\n\")\n",
        "\n",
        "            imagens_lote = imagens_lote.to(device)\n",
        "            y_reais = y_reais.to(device)\n",
        "\n",
        "            otimizador.zero_grad()\n",
        "\n",
        "            previsoes = modelo(imagens_lote)\n",
        "\n",
        "            \n",
        "\n",
        "            erro = metrica_erro(previsoes, y_reais)\n",
        "\n",
        "\n",
        "            erro.backward()\n",
        "\n",
        "\n",
        "            otimizador.step()\n",
        "\n",
        "\n",
        "            erro_treino += erro.item() * imagens_lote.size(0)\n",
        "\n",
        "               # Cálculo da acurácia,\n",
        "               # Pra calcular a acurácia temos que buscar as classes preditas para cada imagem no lote\n",
        "               # Cada tensor é uma imagem do lote com três posições: probabilidades de cada classe\n",
        "               # torch.max vai retornar o valor da maior probabilidade, \n",
        "               # bem como a posição no tensor (tupla de saída)\n",
        "               # A posição, portanto, vai indicar a classe com maior probabilidade (0,1,2 e 3)\n",
        "               # 1o busca o valor máximo de cada tensor de cada imagem, que vai dar \n",
        "               # a classe final predita\n",
        "\n",
        "            _, classes_previstas = torch.max(previsoes.data, 1)\n",
        "            predicoes_corretas = (classes_previstas == y_reais).type(torch.FloatTensor)\n",
        "\n",
        "\n",
        "            acertos = torch.mean(predicoes_corretas)\n",
        "\n",
        "            acertos_treino += torch.sum(predicoes_corretas)\n",
        "\n",
        "        with torch.no_grad():\n",
        "\n",
        "               #Mudando do treinao para validação\n",
        "             modelo.eval() \n",
        "\n",
        "\n",
        "                #Iteração de Validação\n",
        "             for j, (imagens_lote, y_reais) in enumerate(data_loader_validacao):\n",
        "                 imagens_lote = imagens_lote.to(device)\n",
        "                 y_reais = y_reais.to(device)\n",
        "\n",
        "                    #foward Pass de Validação.\n",
        "                 previsoes = modelo(imagens_lote)\n",
        "\n",
        "                   # calcular erro de Validação\n",
        "                 erro = metrica_erro(previsoes, y_reais)\n",
        "\n",
        "                   # Calcular erro de validação e adicionar a valid_loss\n",
        "                 erro_validacao += erro.item() * imagens_lote.size(0)\n",
        "\n",
        "                    # Calcular a acurácia de validação\n",
        "                 _, classes_previstas = torch.max(previsoes.data, 1)\n",
        "                 predicoes_corretas = (classes_previstas == y_reais).type(torch.FloatTensor)\n",
        "\n",
        "                   # Converter os acertos para float e calcular a acurácia média\n",
        "                 acertos = torch.mean(predicoes_corretas)\n",
        "\n",
        "                   # Calcular a acurácia total de validação do lote todo e adicionar a em train_acc\\\n",
        "                 acertos_validacao += torch.sum(predicoes_corretas)\n",
        "\n",
        "                   #print(\\\"Validação - Lote número: {:03d}, Erro: {:.4f}, Acurácia: {:.4f}\\\".format(j, erro.item(), acuracia.item()))\n",
        "\n",
        "        \n",
        "        #break\n",
        "        # Calcular a média de erro e acurácia no treino\n",
        "                 erro_medio_treino = erro_treino/num_imagens_treino\n",
        "                 acuracia_media_treino = acertos_treino/num_imagens_treino\n",
        "\n",
        "        # Calcular a média de erro e acurácia na validação\n",
        "                 erro_medio_validacao = erro_validacao/num_imagens_validacao\n",
        "                 acuracia_media_validacao = acertos_validacao/num_imagens_validacao\n",
        "\n",
        "         # Incluir no histórico os erros e acurácias méidas\n",
        "                 historico.append([erro_medio_treino, erro_medio_validacao, acuracia_media_treino, acuracia_media_validacao])\n",
        "        \n",
        "                 fim_epoca = time.time()\n",
        "        \n",
        "                 print(\"Época : {:03d}, Treino: Erro: {:.4f}, Acurácia: {:.4f}%, \\n\\t\\tValidação : Erro : {:.4f}, Acurácia: {:.4f}%, Tempo: {:.4f}s\".format(epoca+1, erro_medio_treino, acuracia_media_treino*100, erro_medio_validacao, acuracia_media_validacao*100, fim_epoca-inicio_epoca))\n",
        "\n",
        "        # Testa se a acurácia na validação desse modelo nessa época é a melhor\n",
        "        # Se for a melhor, salva no melhor modelo e na melhor acurácia\n",
        "                 if acuracia_media_validacao > melhor_acuracia:\n",
        "                     melhor_acuracia = acuracia_media_validacao\n",
        "           #torch.save(modelo, './modelos/melhor_modelo.pt')\n",
        "                     melhor_modelo = modelo\n",
        "\n",
        "             return melhor_modelo, historico\n",
        "\n",
        "\n",
        "                          "
      ],
      "metadata": {
        "id": "RTJVjKox116P"
      },
      "execution_count": 72,
      "outputs": []
    },
    {
      "cell_type": "code",
      "source": [
        "indice_para_classe"
      ],
      "metadata": {
        "colab": {
          "base_uri": "https://localhost:8080/"
        },
        "id": "HQQ_qKAM-uoP",
        "outputId": "493f0313-8b94-4697-e0ad-e5635f52daed"
      },
      "execution_count": 67,
      "outputs": [
        {
          "output_type": "execute_result",
          "data": {
            "text/plain": [
              "{0: 'batata', 1: 'cenoura', 2: 'limao', 3: 'tomate'}"
            ]
          },
          "metadata": {},
          "execution_count": 67
        }
      ]
    },
    {
      "cell_type": "code",
      "source": [
        "numero_de_epocas = 10\n",
        "\n",
        "modelo_treinado, historico = treinar_e_validar(alexnet, funcao_erro, otimizador, numero_de_epocas)"
      ],
      "metadata": {
        "colab": {
          "base_uri": "https://localhost:8080/"
        },
        "id": "3nfpe7wP-3P3",
        "outputId": "9bc7a6c4-30f5-4fb3-f564-7927df10f2a7"
      },
      "execution_count": 73,
      "outputs": [
        {
          "output_type": "stream",
          "name": "stdout",
          "text": [
            "cpu\n",
            "\n",
            "\n",
            "Época: 1/10\n",
            "\n",
            "Lote: 1\n",
            "\n",
            "\n",
            "Lote: 2\n",
            "\n",
            "\n",
            "Lote: 3\n",
            "\n",
            "\n",
            "Lote: 4\n",
            "\n",
            "\n",
            "Lote: 5\n",
            "\n",
            "\n",
            "Lote: 6\n",
            "\n",
            "\n",
            "Lote: 7\n",
            "\n",
            "\n",
            "Lote: 8\n",
            "\n",
            "\n",
            "Lote: 9\n",
            "\n",
            "\n",
            "Lote: 10\n",
            "\n",
            "\n",
            "Lote: 11\n",
            "\n",
            "\n",
            "Lote: 12\n",
            "\n",
            "\n",
            "Lote: 13\n",
            "\n",
            "\n",
            "Lote: 14\n",
            "\n",
            "\n",
            "Lote: 15\n",
            "\n",
            "\n",
            "Lote: 16\n",
            "\n",
            "\n",
            "Lote: 17\n",
            "\n",
            "\n",
            "Lote: 18\n",
            "\n",
            "\n",
            "Lote: 19\n",
            "\n",
            "\n",
            "Lote: 20\n",
            "\n",
            "\n",
            "Lote: 21\n",
            "\n",
            "\n",
            "Lote: 22\n",
            "\n",
            "\n",
            "Lote: 23\n",
            "\n",
            "\n",
            "Lote: 24\n",
            "\n",
            "\n",
            "Lote: 25\n",
            "\n",
            "\n",
            "Lote: 26\n",
            "\n",
            "\n",
            "Lote: 27\n",
            "\n",
            "\n",
            "Lote: 28\n",
            "\n",
            "\n",
            "Lote: 29\n",
            "\n",
            "\n",
            "Lote: 30\n",
            "\n",
            "\n",
            "Lote: 31\n",
            "\n",
            "\n",
            "Lote: 32\n",
            "\n",
            "\n",
            "Lote: 33\n",
            "\n",
            "\n",
            "Lote: 34\n",
            "\n",
            "\n",
            "Lote: 35\n",
            "\n",
            "\n",
            "Lote: 36\n",
            "\n",
            "\n",
            "Lote: 37\n",
            "\n",
            "\n",
            "Lote: 38\n",
            "\n",
            "\n",
            "Lote: 39\n",
            "\n",
            "\n",
            "Lote: 40\n",
            "\n",
            "\n",
            "Lote: 41\n",
            "\n",
            "\n",
            "Lote: 42\n",
            "\n",
            "\n",
            "Lote: 43\n",
            "\n",
            "\n",
            "Lote: 44\n",
            "\n",
            "\n",
            "Lote: 45\n",
            "\n",
            "\n",
            "Lote: 46\n",
            "\n",
            "\n",
            "Lote: 47\n",
            "\n",
            "\n",
            "Lote: 48\n",
            "\n",
            "\n",
            "Lote: 49\n",
            "\n",
            "\n",
            "Lote: 50\n",
            "\n",
            "\n",
            "Lote: 51\n",
            "\n",
            "\n",
            "Lote: 52\n",
            "\n",
            "\n",
            "Lote: 53\n",
            "\n",
            "\n",
            "Lote: 54\n",
            "\n",
            "\n",
            "Lote: 55\n",
            "\n",
            "\n",
            "Lote: 56\n",
            "\n",
            "Época : 001, Treino: Erro: 0.0011, Acurácia: 100.0000%, \n",
            "\t\tValidação : Erro : 0.0002, Acurácia: 12.5000%, Tempo: 7.0326s\n",
            "Época : 001, Treino: Erro: 0.0011, Acurácia: 100.0000%, \n",
            "\t\tValidação : Erro : 0.0003, Acurácia: 25.0000%, Tempo: 7.1567s\n",
            "Época : 001, Treino: Erro: 0.0011, Acurácia: 100.0000%, \n",
            "\t\tValidação : Erro : 0.0023, Acurácia: 37.5000%, Tempo: 7.2788s\n",
            "Época : 001, Treino: Erro: 0.0011, Acurácia: 100.0000%, \n",
            "\t\tValidação : Erro : 0.0336, Acurácia: 48.4375%, Tempo: 7.4008s\n",
            "Época : 001, Treino: Erro: 0.0011, Acurácia: 100.0000%, \n",
            "\t\tValidação : Erro : 0.0337, Acurácia: 60.9375%, Tempo: 7.5303s\n",
            "Época : 001, Treino: Erro: 0.0011, Acurácia: 100.0000%, \n",
            "\t\tValidação : Erro : 0.0648, Acurácia: 70.3125%, Tempo: 7.6436s\n",
            "Época : 001, Treino: Erro: 0.0011, Acurácia: 100.0000%, \n",
            "\t\tValidação : Erro : 0.0651, Acurácia: 82.8125%, Tempo: 7.7679s\n",
            "Época : 001, Treino: Erro: 0.0011, Acurácia: 100.0000%, \n",
            "\t\tValidação : Erro : 0.0974, Acurácia: 93.7500%, Tempo: 7.8860s\n"
          ]
        }
      ]
    },
    {
      "cell_type": "code",
      "source": [
        "historico = np.array(historico)\n",
        "\n",
        "plt.plot(historico[:,2:])\n",
        "plt.legend(['Erro Treino', 'Erro Validação'])\n",
        "plt.xlabel('Época')\n",
        "plt.ylabel('Erro')\n",
        "plt.ylim(0,1)\n",
        "plt.show()"
      ],
      "metadata": {
        "colab": {
          "base_uri": "https://localhost:8080/",
          "height": 285
        },
        "id": "vQxT3XVILFEe",
        "outputId": "dd84a384-bbd2-4320-9c01-e8d937b9a861"
      },
      "execution_count": 75,
      "outputs": [
        {
          "output_type": "display_data",
          "data": {
            "text/plain": [
              "<Figure size 432x288 with 1 Axes>"
            ],
            "image/png": "[encoded data removed]"
          },
          "metadata": {
            "needs_background": "light"
          }
        }
      ]
    },
    {
      "cell_type": "markdown",
      "source": [
        "Vamos criar a função para prever a classe de uma imagem com o melhor modelo treinado. É bem parecido com o que fazemos na validação, um \\\"forward pass\\\" na rede, sem atualizar os gradientes ou os parâmetros da rede."
      ],
      "metadata": {
        "id": "zxO9UlU4dhIN"
      }
    },
    {
      "cell_type": "code",
      "source": [
        "def predicao_lets_veggie(imagem_teste):\n",
        "\n",
        "     transformacao = transformacoes_de_imagens['teste']\n",
        "     tensor_imagem_teste = transformacao(imagem_teste)\n",
        "\n",
        "     if torch.cuda.is_available():\n",
        "         tensor_imagem_teste = tensor_imagem_teste.view(1, 3, image_size, image_size).cuda()\n",
        "     else:\n",
        "         tensor_imagem_teste = tensor_imagem_teste.view(1, 3, image_size, image_size)\n",
        "                                                        \n",
        "     dict_predicoes = dict()\n",
        "\n",
        "     # Não precisa calcular os gradientes com o autograd\n",
        "\n",
        "     with torch.no_grad():\n",
        "         modelo_treinado.eval()\n",
        "         predicoes_log = modelo_treinado(tensor_imagem_teste)\n",
        "         predicoes = torch.exp(predicoes_log)\n",
        "         dict_predicoes = {indice_para_classe[classe]: float(predicoes[0][classe]) for classe in range(numero_de_classes)}\n",
        "     return dict_predicoes"
      ],
      "metadata": {
        "id": "UUv833Brdkro"
      },
      "execution_count": 81,
      "outputs": []
    },
    {
      "cell_type": "markdown",
      "source": [
        "**Previsão em imagens de teste**\n",
        "\n",
        "Não utilizamos as imagens de teste em nenhum lugar! Assim que aprendemos que deve ser e faremos para todo o sempre como bons e boas cientistas de dados\n",
        "\n",
        "Vamos fazer algumas previsões só para \\\"brincar\\\" e depois calculamos a acurácia\n"
      ],
      "metadata": {
        "id": "21ewtjv1gkRv"
      }
    },
    {
      "cell_type": "code",
      "source": [
        "figura, plots = plt.subplots(nrows=numero_de_classes, ncols=1, figsize=(5, 10))\n",
        "for indice, classe in enumerate(pastas_com_nomes_de_vegetais):\n",
        "    pasta_teste_classe = os.path.join(pasta_teste, classe)\n",
        "    imagem = os.path.join(pasta_teste_classe, os.listdir(pasta_teste_classe)[2])\n",
        "    imagem_teste = PIL.Image.open(imagem)\n",
        "\n",
        "    plots[indice].imshow(imagem_teste)\n",
        "\n",
        "    predicoes = predicao_lets_veggie(imagem_teste)\n",
        "\n",
        "    display(max(predicoes, key=predicoes.get))\n"
      ],
      "metadata": {
        "colab": {
          "base_uri": "https://localhost:8080/",
          "height": 668
        },
        "id": "xBVNnCOAgvil",
        "outputId": "d17093d0-0d03-4270-d01c-9858b469ee3c"
      },
      "execution_count": 82,
      "outputs": [
        {
          "output_type": "display_data",
          "data": {
            "text/plain": [
              "'tomate'"
            ],
            "application/vnd.google.colaboratory.intrinsic+json": {
              "type": "string"
            }
          },
          "metadata": {}
        },
        {
          "output_type": "display_data",
          "data": {
            "text/plain": [
              "'batata'"
            ],
            "application/vnd.google.colaboratory.intrinsic+json": {
              "type": "string"
            }
          },
          "metadata": {}
        },
        {
          "output_type": "display_data",
          "data": {
            "text/plain": [
              "'cenoura'"
            ],
            "application/vnd.google.colaboratory.intrinsic+json": {
              "type": "string"
            }
          },
          "metadata": {}
        },
        {
          "output_type": "display_data",
          "data": {
            "text/plain": [
              "'limao'"
            ],
            "application/vnd.google.colaboratory.intrinsic+json": {
              "type": "string"
            }
          },
          "metadata": {}
        },
        {
          "output_type": "display_data",
          "data": {
            "text/plain": [
              "<Figure size 360x720 with 4 Axes>"
            ],
            "image/png": "[encoded data removed]"
          },
          "metadata": {
            "needs_background": "light"
          }
        }
      ]
    },
    {
      "cell_type": "code",
      "source": [
        "def acuracia_teste(pasta_teste):\n",
        "    acertos = 0\n",
        "    total_imagens = 0\n",
        "\n",
        "    for classe in os.listdir(pasta_teste):\n",
        "        pasta_completa = os.path.join(pasta_teste, classe)\n",
        "        total_imagens += len(os.listdir(pasta_completa))    \n",
        "\n",
        "        for imagem in os.listdir(pasta_completa):\n",
        "            imagem = os.path.join(pasta_completa, imagem)\n",
        "            imagem_teste = PIL.Image.open(imagem)\n",
        "            predicoes = predicao_lets_veggie(imagem_teste)\n",
        "            predicao = max(predicoes, key=predicoes.get)\n",
        "\n",
        "            if predicao == classe:\n",
        "               acertos += 1\n",
        "\n",
        "\n",
        "    return 100 * acertos/total_imagens         \n"
      ],
      "metadata": {
        "id": "f7NRiX-qiNin"
      },
      "execution_count": 83,
      "outputs": []
    },
    {
      "cell_type": "code",
      "source": [
        "acuracia_teste(pasta_teste)"
      ],
      "metadata": {
        "colab": {
          "base_uri": "https://localhost:8080/"
        },
        "id": "pQayhKhfjZds",
        "outputId": "696f0d89-e833-400a-ef78-fc7a9afe6545"
      },
      "execution_count": 84,
      "outputs": [
        {
          "output_type": "execute_result",
          "data": {
            "text/plain": [
              "97.01492537313433"
            ]
          },
          "metadata": {},
          "execution_count": 84
        }
      ]
    },
    {
      "cell_type": "markdown",
      "source": [
        "**Deploy do Modelo**\n",
        "Vamos fazer uma aplicação simples usando o maravilhoso Gradio!\n"
      ],
      "metadata": {
        "id": "fJLUFfacjsIV"
      }
    },
    {
      "cell_type": "code",
      "source": [
        "pip install gradio"
      ],
      "metadata": {
        "colab": {
          "base_uri": "https://localhost:8080/"
        },
        "id": "asQgPvGunPEE",
        "outputId": "8f6e24af-364f-4d15-cfd6-d46ab8e749ee"
      },
      "execution_count": 91,
      "outputs": [
        {
          "output_type": "stream",
          "name": "stdout",
          "text": [
            "Looking in indexes: https://pypi.org/simple, https://us-python.pkg.dev/colab-wheels/public/simple/\n",
            "Collecting gradio\n",
            "  Downloading gradio-3.6-py3-none-any.whl (5.3 MB)\n",
            "\u001b[K     |████████████████████████████████| 5.3 MB 4.8 MB/s \n",
            "\u001b[?25hCollecting pydub\n",
            "  Downloading pydub-0.25.1-py2.py3-none-any.whl (32 kB)\n",
            "Collecting httpx\n",
            "  Downloading httpx-0.23.0-py3-none-any.whl (84 kB)\n",
            "\u001b[K     |████████████████████████████████| 84 kB 3.1 MB/s \n",
            "\u001b[?25hRequirement already satisfied: pandas in /usr/local/lib/python3.7/dist-packages (from gradio) (1.3.5)\n",
            "Collecting ffmpy\n",
            "  Downloading ffmpy-0.3.0.tar.gz (4.8 kB)\n",
            "Collecting fastapi\n",
            "  Downloading fastapi-0.85.1-py3-none-any.whl (55 kB)\n",
            "\u001b[K     |████████████████████████████████| 55 kB 3.6 MB/s \n",
            "\u001b[?25hCollecting python-multipart\n",
            "  Downloading python-multipart-0.0.5.tar.gz (32 kB)\n",
            "Requirement already satisfied: jinja2 in /usr/local/lib/python3.7/dist-packages (from gradio) (2.11.3)\n",
            "Requirement already satisfied: pydantic in /usr/local/lib/python3.7/dist-packages (from gradio) (1.9.2)\n",
            "Requirement already satisfied: pyyaml in /usr/local/lib/python3.7/dist-packages (from gradio) (6.0)\n",
            "Collecting orjson\n",
            "  Downloading orjson-3.8.0-cp37-cp37m-manylinux_2_17_x86_64.manylinux2014_x86_64.whl (270 kB)\n",
            "\u001b[K     |████████████████████████████████| 270 kB 46.0 MB/s \n",
            "\u001b[?25hRequirement already satisfied: matplotlib in /usr/local/lib/python3.7/dist-packages (from gradio) (3.2.2)\n",
            "Collecting h11<0.13,>=0.11\n",
            "  Downloading h11-0.12.0-py3-none-any.whl (54 kB)\n",
            "\u001b[K     |████████████████████████████████| 54 kB 3.1 MB/s \n",
            "\u001b[?25hCollecting markdown-it-py[linkify,plugins]\n",
            "  Downloading markdown_it_py-2.1.0-py3-none-any.whl (84 kB)\n",
            "\u001b[K     |████████████████████████████████| 84 kB 3.1 MB/s \n",
            "\u001b[?25hCollecting paramiko\n",
            "  Downloading paramiko-2.11.0-py2.py3-none-any.whl (212 kB)\n",
            "\u001b[K     |████████████████████████████████| 212 kB 64.3 MB/s \n",
            "\u001b[?25hRequirement already satisfied: requests in /usr/local/lib/python3.7/dist-packages (from gradio) (2.23.0)\n",
            "Collecting websockets\n",
            "  Downloading websockets-10.3-cp37-cp37m-manylinux_2_5_x86_64.manylinux1_x86_64.manylinux_2_12_x86_64.manylinux2010_x86_64.whl (112 kB)\n",
            "\u001b[K     |████████████████████████████████| 112 kB 62.7 MB/s \n",
            "\u001b[?25hCollecting uvicorn\n",
            "  Downloading uvicorn-0.19.0-py3-none-any.whl (56 kB)\n",
            "\u001b[K     |████████████████████████████████| 56 kB 4.2 MB/s \n",
            "\u001b[?25hCollecting pycryptodome\n",
            "  Downloading pycryptodome-3.15.0-cp35-abi3-manylinux2010_x86_64.whl (2.3 MB)\n",
            "\u001b[K     |████████████████████████████████| 2.3 MB 30.2 MB/s \n",
            "\u001b[?25hRequirement already satisfied: fsspec in /usr/local/lib/python3.7/dist-packages (from gradio) (2022.8.2)\n",
            "Requirement already satisfied: aiohttp in /usr/local/lib/python3.7/dist-packages (from gradio) (3.8.3)\n",
            "Requirement already satisfied: pillow in /usr/local/lib/python3.7/dist-packages (from gradio) (7.1.2)\n",
            "Requirement already satisfied: numpy in /usr/local/lib/python3.7/dist-packages (from gradio) (1.21.6)\n",
            "Requirement already satisfied: aiosignal>=1.1.2 in /usr/local/lib/python3.7/dist-packages (from aiohttp->gradio) (1.2.0)\n",
            "Requirement already satisfied: multidict<7.0,>=4.5 in /usr/local/lib/python3.7/dist-packages (from aiohttp->gradio) (6.0.2)\n",
            "Requirement already satisfied: charset-normalizer<3.0,>=2.0 in /usr/local/lib/python3.7/dist-packages (from aiohttp->gradio) (2.1.1)\n",
            "Requirement already satisfied: async-timeout<5.0,>=4.0.0a3 in /usr/local/lib/python3.7/dist-packages (from aiohttp->gradio) (4.0.2)\n",
            "Requirement already satisfied: attrs>=17.3.0 in /usr/local/lib/python3.7/dist-packages (from aiohttp->gradio) (22.1.0)\n",
            "Requirement already satisfied: typing-extensions>=3.7.4 in /usr/local/lib/python3.7/dist-packages (from aiohttp->gradio) (4.1.1)\n",
            "Requirement already satisfied: yarl<2.0,>=1.0 in /usr/local/lib/python3.7/dist-packages (from aiohttp->gradio) (1.8.1)\n",
            "Requirement already satisfied: asynctest==0.13.0 in /usr/local/lib/python3.7/dist-packages (from aiohttp->gradio) (0.13.0)\n",
            "Requirement already satisfied: frozenlist>=1.1.1 in /usr/local/lib/python3.7/dist-packages (from aiohttp->gradio) (1.3.1)\n",
            "Requirement already satisfied: idna>=2.0 in /usr/local/lib/python3.7/dist-packages (from yarl<2.0,>=1.0->aiohttp->gradio) (2.10)\n",
            "Collecting starlette==0.20.4\n",
            "  Downloading starlette-0.20.4-py3-none-any.whl (63 kB)\n",
            "\u001b[K     |████████████████████████████████| 63 kB 1.9 MB/s \n",
            "\u001b[?25hCollecting anyio<5,>=3.4.0\n",
            "  Downloading anyio-3.6.2-py3-none-any.whl (80 kB)\n",
            "\u001b[K     |████████████████████████████████| 80 kB 9.2 MB/s \n",
            "\u001b[?25hCollecting sniffio>=1.1\n",
            "  Downloading sniffio-1.3.0-py3-none-any.whl (10 kB)\n",
            "Requirement already satisfied: certifi in /usr/local/lib/python3.7/dist-packages (from httpx->gradio) (2022.9.24)\n",
            "Collecting httpcore<0.16.0,>=0.15.0\n",
            "  Downloading httpcore-0.15.0-py3-none-any.whl (68 kB)\n",
            "\u001b[K     |████████████████████████████████| 68 kB 6.2 MB/s \n",
            "\u001b[?25hCollecting rfc3986[idna2008]<2,>=1.3\n",
            "  Downloading rfc3986-1.5.0-py2.py3-none-any.whl (31 kB)\n",
            "Requirement already satisfied: MarkupSafe>=0.23 in /usr/local/lib/python3.7/dist-packages (from jinja2->gradio) (2.0.1)\n",
            "Collecting mdurl~=0.1\n",
            "  Downloading mdurl-0.1.2-py3-none-any.whl (10.0 kB)\n",
            "Collecting mdit-py-plugins\n",
            "  Downloading mdit_py_plugins-0.3.1-py3-none-any.whl (46 kB)\n",
            "\u001b[K     |████████████████████████████████| 46 kB 3.2 MB/s \n",
            "\u001b[?25hCollecting linkify-it-py~=1.0\n",
            "  Downloading linkify_it_py-1.0.3-py3-none-any.whl (19 kB)\n",
            "Collecting uc-micro-py\n",
            "  Downloading uc_micro_py-1.0.1-py3-none-any.whl (6.2 kB)\n",
            "Requirement already satisfied: pyparsing!=2.0.4,!=2.1.2,!=2.1.6,>=2.0.1 in /usr/local/lib/python3.7/dist-packages (from matplotlib->gradio) (3.0.9)\n",
            "Requirement already satisfied: python-dateutil>=2.1 in /usr/local/lib/python3.7/dist-packages (from matplotlib->gradio) (2.8.2)\n",
            "Requirement already satisfied: kiwisolver>=1.0.1 in /usr/local/lib/python3.7/dist-packages (from matplotlib->gradio) (1.4.4)\n",
            "Requirement already satisfied: cycler>=0.10 in /usr/local/lib/python3.7/dist-packages (from matplotlib->gradio) (0.11.0)\n",
            "Requirement already satisfied: six>=1.5 in /usr/local/lib/python3.7/dist-packages (from python-dateutil>=2.1->matplotlib->gradio) (1.15.0)\n",
            "Requirement already satisfied: pytz>=2017.3 in /usr/local/lib/python3.7/dist-packages (from pandas->gradio) (2022.4)\n",
            "Collecting bcrypt>=3.1.3\n",
            "  Downloading bcrypt-4.0.1-cp36-abi3-manylinux_2_24_x86_64.whl (593 kB)\n",
            "\u001b[K     |████████████████████████████████| 593 kB 50.4 MB/s \n",
            "\u001b[?25hCollecting pynacl>=1.0.1\n",
            "  Downloading PyNaCl-1.5.0-cp36-abi3-manylinux_2_17_x86_64.manylinux2014_x86_64.manylinux_2_24_x86_64.whl (856 kB)\n",
            "\u001b[K     |████████████████████████████████| 856 kB 47.8 MB/s \n",
            "\u001b[?25hCollecting cryptography>=2.5\n",
            "  Downloading cryptography-38.0.1-cp36-abi3-manylinux_2_24_x86_64.whl (4.0 MB)\n",
            "\u001b[K     |████████████████████████████████| 4.0 MB 43.7 MB/s \n",
            "\u001b[?25hRequirement already satisfied: cffi>=1.12 in /usr/local/lib/python3.7/dist-packages (from cryptography>=2.5->paramiko->gradio) (1.15.1)\n",
            "Requirement already satisfied: pycparser in /usr/local/lib/python3.7/dist-packages (from cffi>=1.12->cryptography>=2.5->paramiko->gradio) (2.21)\n",
            "Requirement already satisfied: urllib3!=1.25.0,!=1.25.1,<1.26,>=1.21.1 in /usr/local/lib/python3.7/dist-packages (from requests->gradio) (1.24.3)\n",
            "Requirement already satisfied: chardet<4,>=3.0.2 in /usr/local/lib/python3.7/dist-packages (from requests->gradio) (3.0.4)\n",
            "Requirement already satisfied: click>=7.0 in /usr/local/lib/python3.7/dist-packages (from uvicorn->gradio) (7.1.2)\n",
            "Building wheels for collected packages: ffmpy, python-multipart\n",
            "  Building wheel for ffmpy (setup.py) ... \u001b[?25l\u001b[?25hdone\n",
            "  Created wheel for ffmpy: filename=ffmpy-0.3.0-py3-none-any.whl size=4712 sha256=d566b3bf2919a7b8a02a7c141a2a0b54bb5adb3ac7eddca04e19e196d9157b3c\n",
            "  Stored in directory: /root/.cache/pip/wheels/13/e4/6c/e8059816e86796a597c6e6b0d4c880630f51a1fcfa0befd5e6\n",
            "  Building wheel for python-multipart (setup.py) ... \u001b[?25l\u001b[?25hdone\n",
            "  Created wheel for python-multipart: filename=python_multipart-0.0.5-py3-none-any.whl size=31678 sha256=83ced5dd290b2275ed156ae55488e8053df9928a38caf1eee6a13b04ec77154d\n",
            "  Stored in directory: /root/.cache/pip/wheels/2c/41/7c/bfd1c180534ffdcc0972f78c5758f89881602175d48a8bcd2c\n",
            "Successfully built ffmpy python-multipart\n",
            "Installing collected packages: sniffio, mdurl, uc-micro-py, rfc3986, markdown-it-py, h11, anyio, starlette, pynacl, mdit-py-plugins, linkify-it-py, httpcore, cryptography, bcrypt, websockets, uvicorn, python-multipart, pydub, pycryptodome, paramiko, orjson, httpx, ffmpy, fastapi, gradio\n",
            "Successfully installed anyio-3.6.2 bcrypt-4.0.1 cryptography-38.0.1 fastapi-0.85.1 ffmpy-0.3.0 gradio-3.6 h11-0.12.0 httpcore-0.15.0 httpx-0.23.0 linkify-it-py-1.0.3 markdown-it-py-2.1.0 mdit-py-plugins-0.3.1 mdurl-0.1.2 orjson-3.8.0 paramiko-2.11.0 pycryptodome-3.15.0 pydub-0.25.1 pynacl-1.5.0 python-multipart-0.0.5 rfc3986-1.5.0 sniffio-1.3.0 starlette-0.20.4 uc-micro-py-1.0.1 uvicorn-0.19.0 websockets-10.3\n"
          ]
        }
      ]
    },
    {
      "cell_type": "code",
      "source": [
        "import gradio as gr\n",
        "\n",
        "interface_gradio = gr.Interface(fn=predicao_lets_veggie,\n",
        "                                 inputs=gr.inputs.Image(type=\"pil\"),\n",
        "                                 outputs=\"label\").launch(share=True)\n"
      ],
      "metadata": {
        "colab": {
          "base_uri": "https://localhost:8080/",
          "height": 660
        },
        "id": "2L_PXlbkj0az",
        "outputId": "b3f0ae21-97af-4cdd-808e-f4e00e6004e3"
      },
      "execution_count": 92,
      "outputs": [
        {
          "output_type": "stream",
          "name": "stderr",
          "text": [
            "/usr/local/lib/python3.7/dist-packages/gradio/inputs.py:257: UserWarning: Usage of gradio.inputs is deprecated, and will not be supported in the future, please import your component from gradio.components\n",
            "  \"Usage of gradio.inputs is deprecated, and will not be supported in the future, please import your component from gradio.components\",\n",
            "/usr/local/lib/python3.7/dist-packages/gradio/deprecation.py:40: UserWarning: `optional` parameter is deprecated, and it has no effect\n",
            "  warnings.warn(value)\n"
          ]
        },
        {
          "output_type": "stream",
          "name": "stdout",
          "text": [
            "Colab notebook detected. To show errors in colab notebook, set `debug=True` in `launch()`\n",
            "Running on public URL: https://19e63680e12418b0.gradio.app\n",
            "\n",
            "This share link expires in 72 hours. For free permanent hosting and GPU upgrades (NEW!), check out Spaces: https://huggingface.co/spaces\n"
          ]
        },
        {
          "output_type": "display_data",
          "data": {
            "text/plain": [
              "<IPython.core.display.HTML object>"
            ],
            "text/html": [
              "<div><iframe src=\"https://19e63680e12418b0.gradio.app\" width=\"900\" height=\"500\" allow=\"autoplay; camera; microphone; clipboard-read; clipboard-write;\" frameborder=\"0\" allowfullscreen></iframe></div>"
            ]
          },
          "metadata": {}
        }
      ]
    }
  ]
}